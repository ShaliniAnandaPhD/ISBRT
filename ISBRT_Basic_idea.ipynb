{
  "nbformat": 4,
  "nbformat_minor": 0,
  "metadata": {
    "colab": {
      "provenance": [],
      "authorship_tag": "ABX9TyO9fc60pD66oF868jCbK825",
      "include_colab_link": true
    },
    "kernelspec": {
      "name": "python3",
      "display_name": "Python 3"
    },
    "language_info": {
      "name": "python"
    }
  },
  "cells": [
    {
      "cell_type": "markdown",
      "metadata": {
        "id": "view-in-github",
        "colab_type": "text"
      },
      "source": [
        "<a href=\"https://colab.research.google.com/github/ShaliniAnandaPhD/ISBRT/blob/main/ISBRT_Basic_idea.ipynb\" target=\"_parent\"><img src=\"https://colab.research.google.com/assets/colab-badge.svg\" alt=\"Open In Colab\"/></a>"
      ]
    },
    {
      "cell_type": "markdown",
      "source": [
        "Install OpenAI library"
      ],
      "metadata": {
        "id": "_VtfsER7NOju"
      }
    },
    {
      "cell_type": "code",
      "execution_count": 8,
      "metadata": {
        "colab": {
          "base_uri": "https://localhost:8080/"
        },
        "id": "48tNYW7kKyYd",
        "outputId": "bd0e859e-0afc-4eb0-a960-e4e8f44beb0c"
      },
      "outputs": [
        {
          "output_type": "stream",
          "name": "stdout",
          "text": [
            "Requirement already satisfied: openai==0.28 in /usr/local/lib/python3.10/dist-packages (0.28.0)\n",
            "Requirement already satisfied: requests>=2.20 in /usr/local/lib/python3.10/dist-packages (from openai==0.28) (2.31.0)\n",
            "Requirement already satisfied: tqdm in /usr/local/lib/python3.10/dist-packages (from openai==0.28) (4.66.1)\n",
            "Requirement already satisfied: aiohttp in /usr/local/lib/python3.10/dist-packages (from openai==0.28) (3.8.6)\n",
            "Requirement already satisfied: charset-normalizer<4,>=2 in /usr/local/lib/python3.10/dist-packages (from requests>=2.20->openai==0.28) (3.3.2)\n",
            "Requirement already satisfied: idna<4,>=2.5 in /usr/local/lib/python3.10/dist-packages (from requests>=2.20->openai==0.28) (3.4)\n",
            "Requirement already satisfied: urllib3<3,>=1.21.1 in /usr/local/lib/python3.10/dist-packages (from requests>=2.20->openai==0.28) (2.0.7)\n",
            "Requirement already satisfied: certifi>=2017.4.17 in /usr/local/lib/python3.10/dist-packages (from requests>=2.20->openai==0.28) (2023.7.22)\n",
            "Requirement already satisfied: attrs>=17.3.0 in /usr/local/lib/python3.10/dist-packages (from aiohttp->openai==0.28) (23.1.0)\n",
            "Requirement already satisfied: multidict<7.0,>=4.5 in /usr/local/lib/python3.10/dist-packages (from aiohttp->openai==0.28) (6.0.4)\n",
            "Requirement already satisfied: async-timeout<5.0,>=4.0.0a3 in /usr/local/lib/python3.10/dist-packages (from aiohttp->openai==0.28) (4.0.3)\n",
            "Requirement already satisfied: yarl<2.0,>=1.0 in /usr/local/lib/python3.10/dist-packages (from aiohttp->openai==0.28) (1.9.2)\n",
            "Requirement already satisfied: frozenlist>=1.1.1 in /usr/local/lib/python3.10/dist-packages (from aiohttp->openai==0.28) (1.4.0)\n",
            "Requirement already satisfied: aiosignal>=1.1.2 in /usr/local/lib/python3.10/dist-packages (from aiohttp->openai==0.28) (1.3.1)\n"
          ]
        }
      ],
      "source": [
        "!pip install openai==0.28\n"
      ]
    },
    {
      "cell_type": "code",
      "source": [
        "import openai\n",
        "openai.api_key = 'your-api-key'\n"
      ],
      "metadata": {
        "id": "9asFomy5LpH1"
      },
      "execution_count": 9,
      "outputs": []
    },
    {
      "cell_type": "markdown",
      "source": [
        "Define a basic scenario template"
      ],
      "metadata": {
        "id": "LhPx-t-VNTt4"
      }
    },
    {
      "cell_type": "code",
      "source": [
        "# Define a simple customer service scenario\n",
        "scenario = {\n",
        "    \"id\": 1,\n",
        "    \"description\": \"Customer service interaction for a late delivery\",\n",
        "    \"steps\": [\n",
        "        {\"id\": 1, \"action\": \"Customer complains about a late delivery\"},\n",
        "        {\"id\": 2, \"action\": \"AI response\", \"branching\": {\"satisfactory\": 3, \"unsatisfactory\": 4}},\n",
        "        {\"id\": 3, \"action\": \"Positive resolution and closing\"},\n",
        "        {\"id\": 4, \"action\": \"Ask for more details\"}\n",
        "    ]\n",
        "}\n"
      ],
      "metadata": {
        "id": "8frIvizELz_B"
      },
      "execution_count": 10,
      "outputs": []
    },
    {
      "cell_type": "markdown",
      "source": [
        "Integrate LLM for AI responses"
      ],
      "metadata": {
        "id": "KwXBajfhNW0G"
      }
    },
    {
      "cell_type": "code",
      "source": [
        "def get_gpt3_response(prompt):\n",
        "    try:\n",
        "        response = openai.Completion.create(\n",
        "            engine=\"davinci\",\n",
        "            prompt=prompt,\n",
        "            max_tokens=50\n",
        "        )\n",
        "        return response.choices[0].text.strip()\n",
        "    except Exception as e:\n",
        "        print(f\"Error in getting response: {e}\")\n",
        "        return \"\"\n"
      ],
      "metadata": {
        "id": "FAjpHEhQL697"
      },
      "execution_count": 11,
      "outputs": []
    },
    {
      "cell_type": "markdown",
      "source": [
        "Simulate a dialog interaction"
      ],
      "metadata": {
        "id": "Phm_eIGnNcZU"
      }
    },
    {
      "cell_type": "code",
      "source": [
        "# Starting with the customer's complaint\n",
        "customer_complaint = \"I am unhappy because my delivery is late.\"\n",
        "print(f\"Customer: {customer_complaint}\")\n",
        "\n",
        "# AI's response\n",
        "ai_response = get_gpt3_response(customer_complaint)\n",
        "print(f\"AI: {ai_response}\")\n",
        "\n",
        "# Determine the next step based on AI's response\n",
        "# For simplicity, let's assume any response with an apology is satisfactory\n",
        "if \"sorry\" in ai_response.lower() or \"apologize\" in ai_response.lower():\n",
        "    next_step = scenario[\"steps\"][2]  # Positive resolution\n",
        "else:\n",
        "    next_step = scenario[\"steps\"][3]  # Ask for more details\n",
        "\n",
        "print(f\"Next Step: {next_step['action']}\")\n"
      ],
      "metadata": {
        "colab": {
          "base_uri": "https://localhost:8080/"
        },
        "id": "Th_XEq5-L9ki",
        "outputId": "6e7ebf00-476e-451f-a293-36271c3493ad"
      },
      "execution_count": 12,
      "outputs": [
        {
          "output_type": "stream",
          "name": "stdout",
          "text": [
            "Customer: I am unhappy because my delivery is late.\n",
            "AI: I say “I’m unhappy” because we use a noun to naming the person who experiences. A. Diction 1.2 What’s interesting to me about these pairs is that they do not result in 17 things.\n",
            "Next Step: Ask for more details\n"
          ]
        }
      ]
    },
    {
      "cell_type": "code",
      "source": [
        "# Adding complexity to the scenario\n",
        "scenario[\"steps\"].append({\"id\": 5, \"action\": \"Escalate to supervisor\"})\n",
        "scenario[\"steps\"].append({\"id\": 6, \"action\": \"Offer a discount\"})\n"
      ],
      "metadata": {
        "id": "IN2YdprnMYDy"
      },
      "execution_count": 13,
      "outputs": []
    },
    {
      "cell_type": "markdown",
      "source": [
        "Sentiment analysis"
      ],
      "metadata": {
        "id": "LncBaOb-Nwhi"
      }
    },
    {
      "cell_type": "code",
      "source": [
        "# Example of a simple sentiment analysis (placeholder logic)\n",
        "def analyze_response(response):\n",
        "    if \"unhappy\" in response or \"angry\" in response:\n",
        "        return \"negative\"\n",
        "    else:\n",
        "        return \"positive\"\n",
        "\n",
        "# Analyze the AI response\n",
        "sentiment = analyze_response(ai_response)\n",
        "print(f\"Sentiment of AI Response: {sentiment}\")\n"
      ],
      "metadata": {
        "colab": {
          "base_uri": "https://localhost:8080/"
        },
        "id": "LGNrsWQ9Ma_O",
        "outputId": "871eeb8c-da62-47c3-98c3-88e8d8072ce9"
      },
      "execution_count": 14,
      "outputs": [
        {
          "output_type": "stream",
          "name": "stdout",
          "text": [
            "Sentiment of AI Response: negative\n"
          ]
        }
      ]
    },
    {
      "cell_type": "markdown",
      "source": [
        "A feedback mechanism"
      ],
      "metadata": {
        "id": "BbLKeIjSNye8"
      }
    },
    {
      "cell_type": "code",
      "source": [
        "# Example of a feedback logging system\n",
        "feedback_log = []\n",
        "\n",
        "def log_feedback(customer_input, ai_response, sentiment):\n",
        "    feedback_log.append({\n",
        "        \"customer_input\": customer_input,\n",
        "        \"ai_response\": ai_response,\n",
        "        \"sentiment\": sentiment\n",
        "    })\n",
        "\n",
        "# Logging the interaction\n",
        "log_feedback(customer_complaint, ai_response, sentiment)\n"
      ],
      "metadata": {
        "id": "c8Gjwd0qMdvX"
      },
      "execution_count": 15,
      "outputs": []
    }
  ]
}